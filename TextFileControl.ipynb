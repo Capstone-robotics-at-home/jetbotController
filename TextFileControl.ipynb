{
 "cells": [
  {
   "cell_type": "code",
   "execution_count": 41,
   "metadata": {},
   "outputs": [],
   "source": [
    "from jetbot import Robot\n",
    "import time\n",
    "import os #used for removing the command file once it is read from\n",
    "\n",
    "import os.path\n",
    "from os import path #for checking if there's a command file\n",
    "\n",
    "robot = Robot()"
   ]
  },
  {
   "cell_type": "code",
   "execution_count": 43,
   "metadata": {},
   "outputs": [],
   "source": [
    "\n",
    "if path.exists('Command.txt'): #If the Command file exists, then save it's contents to a variable and delete the file\n",
    "    CommandFile = open(\"Command.txt\",\"r+\")\n",
    "    NewCommand = CommandFile.read()\n",
    "    duration = 0.5 #These can be changed to be the contents of the file, we can use text parsing or read specific lines of the file\n",
    "    power = 0.5\n",
    "    CommandFile.close()\n",
    "    os.remove(\"Command.txt\")\n",
    "else:\n",
    "    time.sleep(0.1) # If the file doesn't exist, wait for it to show up\n"
   ]
  },
  {
   "cell_type": "code",
   "execution_count": 44,
   "metadata": {},
   "outputs": [
    {
     "name": "stdout",
     "output_type": "stream",
     "text": [
      "left\n",
      "Turning Left\n"
     ]
    }
   ],
   "source": [
    "print(NewCommand)\n",
    "if NewCommand == 'left':   #Do what the file says, left right or forward\n",
    "    print(\"Turning Left\")\n",
    "    robot.left(speed = power)\n",
    "    time.sleep(duration)\n",
    "    robot.stop()\n",
    "elif NewCommand == 'right':\n",
    "    print(\"Turning Right\")\n",
    "    robot.right(speed = power)\n",
    "    time.sleep(duration)\n",
    "    robot.stop()    \n",
    "elif NewCommand == 'forward':\n",
    "    print(\"Going forward\")\n",
    "    robot.forward(speed = power)\n",
    "    time.sleep(duration)\n",
    "    robot.stop()    "
   ]
  },
  {
   "cell_type": "code",
   "execution_count": null,
   "metadata": {},
   "outputs": [],
   "source": []
  },
  {
   "cell_type": "code",
   "execution_count": null,
   "metadata": {},
   "outputs": [],
   "source": []
  }
 ],
 "metadata": {
  "kernelspec": {
   "display_name": "Python 3",
   "language": "python",
   "name": "python3"
  },
  "language_info": {
   "codemirror_mode": {
    "name": "ipython",
    "version": 3
   },
   "file_extension": ".py",
   "mimetype": "text/x-python",
   "name": "python",
   "nbconvert_exporter": "python",
   "pygments_lexer": "ipython3",
   "version": "3.6.9"
  }
 },
 "nbformat": 4,
 "nbformat_minor": 4
}
