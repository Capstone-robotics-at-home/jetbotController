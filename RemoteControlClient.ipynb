{
 "cells": [
  {
   "cell_type": "code",
   "execution_count": 15,
   "metadata": {},
   "outputs": [],
   "source": [
    "from jetbot import Robot\n",
    "import time\n",
    "import os #used for removing the command file once it is read from\n",
    "\n",
    "import os.path\n",
    "from os import path #for checking if there's a command file\n",
    "\n",
    "robot = Robot()\n",
    "import socket # for connecting to server\n"
   ]
  },
  {
   "cell_type": "code",
   "execution_count": 16,
   "metadata": {},
   "outputs": [],
   "source": [
    "# /////////////////// Old code for communication using text files ////////////////////////////////\n",
    "\n",
    "# if path.exists('Command.txt'): #If the Command file exists, then save it's contents to a variable and delete the file\n",
    "#     CommandFile = open(\"Command.txt\",\"r+\")\n",
    "#     NewCommand = CommandFile.read()\n",
    "#     duration = 0.5 #These can be changed to be the contents of the file, we can use text parsing or read specific lines of the file\n",
    "#     power = 0.5\n",
    "#     CommandFile.close()\n",
    "#     os.remove(\"Command.txt\")\n",
    "# else:\n",
    "#     time.sleep(0.1) # If the file doesn't exist, wait for it to show up\n"
   ]
  },
  {
   "cell_type": "code",
   "execution_count": 20,
   "metadata": {},
   "outputs": [
    {
     "name": "stdout",
     "output_type": "stream",
     "text": [
      "forward\n",
      "Going forward\n",
      "forward\n",
      "Going forward\n",
      "forward\n",
      "Going forward\n",
      "forward\n",
      "Going forward\n",
      "forward\n",
      "Going forward\n",
      "forward\n",
      "Going forward\n",
      "forward\n",
      "Going forward\n",
      "forward\n",
      "Going forward\n",
      "forward\n",
      "Going forward\n",
      "forward\n",
      "Going forward\n",
      "forward\n",
      "Going forward\n"
     ]
    },
    {
     "ename": "KeyboardInterrupt",
     "evalue": "",
     "output_type": "error",
     "traceback": [
      "\u001b[0;31m\u001b[0m",
      "\u001b[0;31mKeyboardInterrupt\u001b[0mTraceback (most recent call last)",
      "\u001b[0;32m<ipython-input-20-cb346b2da840>\u001b[0m in \u001b[0;36m<module>\u001b[0;34m\u001b[0m\n\u001b[1;32m     23\u001b[0m         \u001b[0mprint\u001b[0m\u001b[0;34m(\u001b[0m\u001b[0;34m\"Going forward\"\u001b[0m\u001b[0;34m)\u001b[0m\u001b[0;34m\u001b[0m\u001b[0;34m\u001b[0m\u001b[0m\n\u001b[1;32m     24\u001b[0m         \u001b[0mrobot\u001b[0m\u001b[0;34m.\u001b[0m\u001b[0mforward\u001b[0m\u001b[0;34m(\u001b[0m\u001b[0mspeed\u001b[0m \u001b[0;34m=\u001b[0m \u001b[0mpower\u001b[0m\u001b[0;34m)\u001b[0m\u001b[0;34m\u001b[0m\u001b[0;34m\u001b[0m\u001b[0m\n\u001b[0;32m---> 25\u001b[0;31m         \u001b[0mtime\u001b[0m\u001b[0;34m.\u001b[0m\u001b[0msleep\u001b[0m\u001b[0;34m(\u001b[0m\u001b[0mduration\u001b[0m\u001b[0;34m)\u001b[0m\u001b[0;34m\u001b[0m\u001b[0;34m\u001b[0m\u001b[0m\n\u001b[0m\u001b[1;32m     26\u001b[0m         \u001b[0mrobot\u001b[0m\u001b[0;34m.\u001b[0m\u001b[0mstop\u001b[0m\u001b[0;34m(\u001b[0m\u001b[0;34m)\u001b[0m\u001b[0;34m\u001b[0m\u001b[0;34m\u001b[0m\u001b[0m\n\u001b[1;32m     27\u001b[0m     \u001b[0mtime\u001b[0m\u001b[0;34m.\u001b[0m\u001b[0msleep\u001b[0m\u001b[0;34m(\u001b[0m\u001b[0;36m1\u001b[0m\u001b[0;34m)\u001b[0m\u001b[0;34m\u001b[0m\u001b[0;34m\u001b[0m\u001b[0m\n",
      "\u001b[0;31mKeyboardInterrupt\u001b[0m: "
     ]
    }
   ],
   "source": [
    "while True:\n",
    "    #Connecting\n",
    "    s = socket.socket(socket.AF_INET, socket.SOCK_STREAM)\n",
    "    s.connect(('192.168.1.102', 1234)) #IPv4 Address OF THE SERVER found using ipconfig in terminal\n",
    "    #Receiving Data\n",
    "    msg = s.recv(1024)\n",
    "    NewCommand = msg.decode(\"utf-8\")\n",
    "    power = 0.5\n",
    "    duration = 1\n",
    "    print(NewCommand)\n",
    "    \n",
    "    if NewCommand == 'left':   #Do what the file says, left right or forward\n",
    "        print(\"Turning Left\")\n",
    "        robot.left(speed = power)\n",
    "        time.sleep(duration)\n",
    "        robot.stop()\n",
    "    elif NewCommand == 'right':\n",
    "        print(\"Turning Right\")\n",
    "        robot.right(speed = power)\n",
    "        time.sleep(duration)\n",
    "        robot.stop()    \n",
    "    elif NewCommand == 'forward':\n",
    "        print(\"Going forward\")\n",
    "        robot.forward(speed = power)\n",
    "        time.sleep(duration)\n",
    "        robot.stop()  \n",
    "    time.sleep(1)"
   ]
  },
  {
   "cell_type": "code",
   "execution_count": 21,
   "metadata": {},
   "outputs": [],
   "source": [
    "robot.stop()"
   ]
  },
  {
   "cell_type": "code",
   "execution_count": null,
   "metadata": {},
   "outputs": [],
   "source": []
  }
 ],
 "metadata": {
  "kernelspec": {
   "display_name": "Python 3",
   "language": "python",
   "name": "python3"
  },
  "language_info": {
   "codemirror_mode": {
    "name": "ipython",
    "version": 3
   },
   "file_extension": ".py",
   "mimetype": "text/x-python",
   "name": "python",
   "nbconvert_exporter": "python",
   "pygments_lexer": "ipython3",
   "version": "3.6.9"
  }
 },
 "nbformat": 4,
 "nbformat_minor": 4
}
