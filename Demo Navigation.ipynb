{
 "cells": [
  {
   "cell_type": "code",
   "execution_count": 52,
   "metadata": {},
   "outputs": [],
   "source": [
    "#Takes in xy coordinates of jetbot and goal, and outputs command to jetbot.\n",
    "\n",
    "#from jetbot import Robot\n",
    "#robot = Robot()\n",
    "import numpy as np\n",
    "import math\n",
    "import time"
   ]
  },
  {
   "cell_type": "code",
   "execution_count": 53,
   "metadata": {},
   "outputs": [],
   "source": [
    "def orientate (jetPos, grabberPos, goalPos): #takes in xy coords of jetbot center of mass,\n",
    "#jetbot grabber (or other jetbot feature), and target, and returns angle to target in radians\n",
    "    #Set jetbot position as origin\n",
    "    absGrabberPos = tuple(map(lambda i, j: i - j, grabberPos, jetPos))\n",
    "    absGoalPos = tuple(map(lambda i, j: i - j, goalPos, jetPos))\n",
    "    \n",
    "    #Find angle between grabber (the direction the jet's facing) and the goal\n",
    "    #Code from https://www.kite.com/python/answers/how-to-get-the-angle-between-two-vectors-in-python#\n",
    "    vector_1 = absGrabberPos\n",
    "    vector_2 = absGoalPos\n",
    "    \n",
    "    unit_vector_1 = vector_1 / np.linalg.norm(vector_1) #Make unit vectors, length = 1\n",
    "    unit_vector_2 = vector_2 / np.linalg.norm(vector_2)\n",
    "    dot_product = np.dot(unit_vector_1, unit_vector_2)\n",
    "    angle = np.arccos(dot_product)\n",
    "    \n",
    "    return angle"
   ]
  },
  {
   "cell_type": "code",
   "execution_count": 54,
   "metadata": {},
   "outputs": [
    {
     "data": {
      "text/plain": [
       "1.5707963267948966"
      ]
     },
     "execution_count": 54,
     "metadata": {},
     "output_type": "execute_result"
    }
   ],
   "source": [
    "# Test orientate\n",
    "orientate((0,0), (0,1), (1,0))"
   ]
  },
  {
   "cell_type": "code",
   "execution_count": 55,
   "metadata": {},
   "outputs": [],
   "source": [
    "def correctionCommand(angle):\n",
    "    if angle < math.pi and angle > math.pi /4:\n",
    "        return \"right\"\n",
    "    if angle >= math.pi and angle <math.pi *7/4:\n",
    "        return \"left\"\n",
    "    else: #if angle is between 7pi/4 and pi/4, or within 45 degrees of target\n",
    "        return \"forward\""
   ]
  },
  {
   "cell_type": "code",
   "execution_count": 56,
   "metadata": {},
   "outputs": [
    {
     "data": {
      "text/plain": [
       "'left'"
      ]
     },
     "execution_count": 56,
     "metadata": {},
     "output_type": "execute_result"
    }
   ],
   "source": [
    "correctionCommand(math.pi)"
   ]
  },
  {
   "cell_type": "code",
   "execution_count": 57,
   "metadata": {},
   "outputs": [
    {
     "ename": "OSError",
     "evalue": "[Errno 48] Address already in use",
     "output_type": "error",
     "traceback": [
      "\u001b[0;31m---------------------------------------------------------------------------\u001b[0m",
      "\u001b[0;31mOSError\u001b[0m                                   Traceback (most recent call last)",
      "\u001b[0;32m<ipython-input-57-977b6a6b34e2>\u001b[0m in \u001b[0;36m<module>\u001b[0;34m\u001b[0m\n\u001b[1;32m      5\u001b[0m \u001b[0ms\u001b[0m \u001b[0;34m=\u001b[0m \u001b[0msocket\u001b[0m\u001b[0;34m.\u001b[0m\u001b[0msocket\u001b[0m\u001b[0;34m(\u001b[0m\u001b[0msocket\u001b[0m\u001b[0;34m.\u001b[0m\u001b[0mAF_INET\u001b[0m\u001b[0;34m,\u001b[0m \u001b[0msocket\u001b[0m\u001b[0;34m.\u001b[0m\u001b[0mSOCK_STREAM\u001b[0m\u001b[0;34m)\u001b[0m\u001b[0;34m\u001b[0m\u001b[0;34m\u001b[0m\u001b[0m\n\u001b[1;32m      6\u001b[0m \u001b[0mhost\u001b[0m \u001b[0;34m=\u001b[0m \u001b[0;34m'192.168.1.30'\u001b[0m \u001b[0;31m#Set this to be your IP address, found in ipconfig or socket.gethostbyname(socket.gethostname())\u001b[0m\u001b[0;34m\u001b[0m\u001b[0;34m\u001b[0m\u001b[0m\n\u001b[0;32m----> 7\u001b[0;31m \u001b[0ms\u001b[0m\u001b[0;34m.\u001b[0m\u001b[0mbind\u001b[0m\u001b[0;34m(\u001b[0m\u001b[0;34m(\u001b[0m\u001b[0mhost\u001b[0m\u001b[0;34m,\u001b[0m \u001b[0;36m1234\u001b[0m\u001b[0;34m)\u001b[0m\u001b[0;34m)\u001b[0m\u001b[0;34m\u001b[0m\u001b[0;34m\u001b[0m\u001b[0m\n\u001b[0m\u001b[1;32m      8\u001b[0m \u001b[0ms\u001b[0m\u001b[0;34m.\u001b[0m\u001b[0mlisten\u001b[0m\u001b[0;34m(\u001b[0m\u001b[0;36m5\u001b[0m\u001b[0;34m)\u001b[0m\u001b[0;34m\u001b[0m\u001b[0;34m\u001b[0m\u001b[0m\n\u001b[1;32m      9\u001b[0m \u001b[0;34m\u001b[0m\u001b[0m\n",
      "\u001b[0;31mOSError\u001b[0m: [Errno 48] Address already in use"
     ]
    }
   ],
   "source": [
    "jetPos = (10,10)\n",
    "grabberPos = (9,9)\n",
    "goalPos = (20,0)\n",
    "import socket\n",
    "s = socket.socket(socket.AF_INET, socket.SOCK_STREAM)\n",
    "host = '192.168.1.30' #Set this to be your IP address, found in ipconfig or socket.gethostbyname(socket.gethostname())\n",
    "s.bind((host, 1234))\n",
    "s.listen(5)\n",
    "\n",
    "while True:\n",
    "    #Collect coords somehow\n",
    "    distance = math.dist(jetPos, goalPos)\n",
    "    print(\"Distance:\", end = \" \")\n",
    "    print(distance)\n",
    "    if distance < 1: #Repeat until goal is reached\n",
    "        break #end loop\n",
    "    \n",
    "    angle = orientate(jetPos, grabberPos, goalPos)\n",
    "    print(\"Angle:\", end = \" \")\n",
    "    print(angle)\n",
    "    \n",
    "    command = correctionCommand(angle)\n",
    "    print(command)\n",
    "    \n",
    "    clientsocket, address = s.accept() #Waits until jetbot makes connection\n",
    "    print(f\"Connection from {address} has been established.\")\n",
    "    clientsocket.send(bytes(command,\"utf-8\")) #Sends command to the jetbot\n",
    "    time.sleep(1)\n",
    "    \n",
    "    "
   ]
  },
  {
   "cell_type": "code",
   "execution_count": null,
   "metadata": {},
   "outputs": [],
   "source": []
  }
 ],
 "metadata": {
  "kernelspec": {
   "display_name": "Python 3",
   "language": "python",
   "name": "python3"
  },
  "language_info": {
   "codemirror_mode": {
    "name": "ipython",
    "version": 3
   },
   "file_extension": ".py",
   "mimetype": "text/x-python",
   "name": "python",
   "nbconvert_exporter": "python",
   "pygments_lexer": "ipython3",
   "version": "3.8.3"
  }
 },
 "nbformat": 4,
 "nbformat_minor": 4
}
