{
 "cells": [
  {
   "cell_type": "code",
   "execution_count": 1,
   "metadata": {},
   "outputs": [],
   "source": [
    "import socket\n",
    "\n",
    "# create the socket\n",
    "# AF_INET == ipv4\n",
    "# SOCK_STREAM == TCP\n",
    "s = socket.socket(socket.AF_INET, socket.SOCK_STREAM)"
   ]
  },
  {
   "cell_type": "code",
   "execution_count": null,
   "metadata": {},
   "outputs": [
    {
     "name": "stdout",
     "output_type": "stream",
     "text": [
      "Connection from ('192.168.1.27', 43782) has been established.\n",
      "Connection from ('192.168.1.27', 43784) has been established.\n",
      "Connection from ('192.168.1.27', 43786) has been established.\n",
      "Connection from ('192.168.1.27', 43788) has been established.\n",
      "Connection from ('192.168.1.27', 43790) has been established.\n",
      "Connection from ('192.168.1.27', 43792) has been established.\n",
      "Connection from ('192.168.1.27', 43794) has been established.\n",
      "Connection from ('192.168.1.27', 43796) has been established.\n",
      "Connection from ('192.168.1.27', 43798) has been established.\n",
      "Connection from ('192.168.1.27', 43800) has been established.\n",
      "Connection from ('192.168.1.27', 43802) has been established.\n",
      "Connection from ('192.168.1.27', 43804) has been established.\n",
      "Connection from ('192.168.1.27', 43806) has been established.\n",
      "Connection from ('192.168.1.27', 43808) has been established.\n"
     ]
    }
   ],
   "source": [
    "s.bind((socket.gethostname(), 1234))\n",
    "s.listen(5)\n",
    "while True:\n",
    "    clientsocket, address = s.accept()\n",
    "    print(f\"Connection from {address} has been established.\")\n",
    "    clientsocket.send(bytes(\"forward\",\"utf-8\"))\n"
   ]
  },
  {
   "cell_type": "code",
   "execution_count": 2,
   "metadata": {},
   "outputs": [
    {
     "name": "stdout",
     "output_type": "stream",
     "text": [
      "ThinkingSilicon\n"
     ]
    }
   ],
   "source": [
    "print(socket.gethostname())"
   ]
  },
  {
   "cell_type": "code",
   "execution_count": null,
   "metadata": {},
   "outputs": [],
   "source": []
  },
  {
   "cell_type": "code",
   "execution_count": null,
   "metadata": {},
   "outputs": [],
   "source": []
  }
 ],
 "metadata": {
  "kernelspec": {
   "display_name": "Python 3",
   "language": "python",
   "name": "python3"
  },
  "language_info": {
   "codemirror_mode": {
    "name": "ipython",
    "version": 3
   },
   "file_extension": ".py",
   "mimetype": "text/x-python",
   "name": "python",
   "nbconvert_exporter": "python",
   "pygments_lexer": "ipython3",
   "version": "3.8.5"
  }
 },
 "nbformat": 4,
 "nbformat_minor": 4
}
